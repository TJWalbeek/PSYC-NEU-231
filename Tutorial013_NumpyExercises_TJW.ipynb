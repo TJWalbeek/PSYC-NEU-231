{
 "cells": [
  {
   "cell_type": "markdown",
   "metadata": {},
   "source": [
    "## EXERCISES\n",
    "\n",
    "### Vector Multiplication\n",
    "1. Produce 2 vectors, one with integers in the range [5,10] and the other [15,20] using the np.arange function\n",
    "1. Without using any functions from the numpy module\n",
    "    1. Compute the outer product of those vectors \n",
    "    1. Compute the \"trace\" of the resulting matrix\n",
    "    \n",
    "    ![trace](https://wikimedia.org/api/rest_v1/media/math/render/svg/3e5b6e82272fc5eeca6d510388e0a2bd0a6c6463)\n",
    "    \n",
    "    \n",
    "Complete the same items using numpy operations"
   ]
  },
  {
   "cell_type": "code",
   "execution_count": 1,
   "metadata": {},
   "outputs": [
    {
     "name": "stdout",
     "output_type": "stream",
     "text": [
      "[ 5  6  7  8  9 10] \n",
      " [15 16 17 18 19 20]\n"
     ]
    }
   ],
   "source": [
    "import numpy as np\n",
    "x = np.arange(5,11)\n",
    "y = np.arange(15,21)\n",
    "print(x, '\\n', y)"
   ]
  },
  {
   "cell_type": "markdown",
   "metadata": {},
   "source": [
    "### A"
   ]
  },
  {
   "cell_type": "code",
   "execution_count": 21,
   "metadata": {},
   "outputs": [
    {
     "name": "stdout",
     "output_type": "stream",
     "text": [
      "outer product:\n"
     ]
    },
    {
     "data": {
      "text/plain": [
       "[[75, 80, 85, 90, 95, 100],\n",
       " [90, 96, 102, 108, 114, 120],\n",
       " [105, 112, 119, 126, 133, 140],\n",
       " [120, 128, 136, 144, 152, 160],\n",
       " [135, 144, 153, 162, 171, 180],\n",
       " [150, 160, 170, 180, 190, 200]]"
      ]
     },
     "execution_count": 21,
     "metadata": {},
     "output_type": "execute_result"
    }
   ],
   "source": [
    "p_out = [] # initialize empty list\n",
    "\n",
    "assert (len(x)==len(y)), 'Lists must be the same length!'\n",
    "\n",
    "for i in range(len(x)): # iterate through indicies of vectors\n",
    "    row = [] # initialize sub list\n",
    "    for j in range(len(y)):\n",
    "        row.append(x[i]*y[j])\n",
    "    p_out.append(row)\n",
    "    \n",
    "print(\"outer product:\")\n",
    "p_out"
   ]
  },
  {
   "cell_type": "markdown",
   "metadata": {},
   "source": [
    "### B"
   ]
  },
  {
   "cell_type": "code",
   "execution_count": 44,
   "metadata": {},
   "outputs": [
    {
     "name": "stdout",
     "output_type": "stream",
     "text": [
      "805\n"
     ]
    }
   ],
   "source": [
    "trace_items = []\n",
    "for i in range(len(p_out)):\n",
    "    #print(i)\n",
    "    #print(p_out[i][i])\n",
    "    trace_items.append(p_out[i][i])\n",
    "\n",
    "#print(trace_items)\n",
    "\n",
    "Trace = sum(trace_items)\n",
    "print(Trace)"
   ]
  },
  {
   "cell_type": "markdown",
   "metadata": {},
   "source": [
    "### Matrix Multiplication\n",
    "* Two matricies can be multiplied if their inner dimensions match (eg. 2x3 * 3x5 -> 2x5). The best rule for working with and mutliplying matricies is to remember (rows x columns). This applies to both the dimensions of a matrix (a 2x3 matrix has 2 rows and 3 columns) as well as multiplication (you multiply the rows of the first matrix by the columns of the second). \n",
    "\n",
    "* When multiplying two matricies of dimension (M x N)*(N x P) the resulting matrix is (M x P). The upper element of the reslting matrix is the inner (or dot) product of the first row of the first matrix and the first column of the second matrix\n",
    "\n",
    "![two matrices](https://wikimedia.org/api/rest_v1/media/math/render/svg/16b1644351bc2041175b19cbc65da03ef78130c7)\n",
    "\n",
    "![store product in matrix C](https://wikimedia.org/api/rest_v1/media/math/render/svg/00ac0c831c365b7424cc43239aae8cebea27c56c)\n",
    "\n",
    "![matrix multiply](https://wikimedia.org/api/rest_v1/media/math/render/svg/3cfeccef1c8c7e6da0ddf08daed8dbf3c6f50c5e)\n",
    "\n",
    "for i = 1, ..., n and j = 1, ..., p.\n",
    "\n",
    "1. Make two matrices of random numbers (A and B). A should be a 4x3 matrix and B should be a 3x4 matrix. Multiply A by B using (to a resulting matrix C) using:\n",
    "    1. a conventional for-loop\n",
    "    1. list comprehension\n",
    "    1. numpy operator\n",
    "    \n",
    "2. After you have C, pull out the upper quadrant using fancy indexing, and then replace the main diagonal (upper left to lower right) with 0s. "
   ]
  },
  {
   "cell_type": "code",
   "execution_count": 51,
   "metadata": {},
   "outputs": [
    {
     "name": "stdout",
     "output_type": "stream",
     "text": [
      "[[0.85974034 0.38515975 0.28491394]\n",
      " [0.09702714 0.9192704  0.08068817]\n",
      " [0.50826794 0.85571357 0.09733994]\n",
      " [0.13546569 0.50816368 0.42402412]] \n",
      "\n",
      " [[0.85130136 0.35138091 0.96080839 0.5926285 ]\n",
      " [0.03836892 0.56987483 0.90097537 0.24547372]\n",
      " [0.776647   0.74714454 0.27046054 0.60632017]]\n"
     ]
    }
   ],
   "source": [
    "A = np.random.rand(4,3) \n",
    "B = np.random.rand(3,4)\n",
    "print(A, '\\n\\n',B)"
   ]
  },
  {
   "cell_type": "code",
   "execution_count": 102,
   "metadata": {},
   "outputs": [
    {
     "data": {
      "text/plain": [
       "array([[0.96795385, 0.73446109, 1.25012316, 0.7768023 ],\n",
       "       [0.18053698, 0.61824828, 0.94328744, 0.33208064],\n",
       "       [0.54112077, 0.73897228, 1.28565156, 0.57028843],\n",
       "       [0.46413688, 0.65399706, 0.70268132, 0.46211604]])"
      ]
     },
     "execution_count": 102,
     "metadata": {},
     "output_type": "execute_result"
    }
   ],
   "source": [
    "#A\n",
    "C_A = np.zeros(16).reshape(4,4) # initialize empty list\n",
    "#print(C_A)\n",
    "\n",
    "for i in range(np.shape(A)[0]): # iterate through indicies of vectors\n",
    "    for j in range(np.shape(B)[1]):\n",
    "        C_A[i,j] = A[i,:].dot(B[:,j])\n",
    "C_A\n",
    "# print('Inner Product: %d' %sum(C_A)) # Print Output"
   ]
  },
  {
   "cell_type": "code",
   "execution_count": 78,
   "metadata": {},
   "outputs": [
    {
     "data": {
      "text/plain": [
       "array([[0.96795385, 0.73446109, 1.25012316, 0.7768023 ],\n",
       "       [0.18053698, 0.61824828, 0.94328744, 0.33208064],\n",
       "       [0.54112077, 0.73897228, 1.28565156, 0.57028843],\n",
       "       [0.46413688, 0.65399706, 0.70268132, 0.46211604]])"
      ]
     },
     "execution_count": 78,
     "metadata": {},
     "output_type": "execute_result"
    }
   ],
   "source": [
    "#B\n",
    "C_B = np.zeros(16).reshape(4,4) # initialize empty list\n",
    "C_B = [[ A[i,:].dot(B[:,j]) for j in range(4)] for i in range(4) ]\n",
    "np.array(C_B)\n",
    "\n",
    "#c_out = [[x1[i]*x2[j] for j in range(len(x2))]for i in range(len(x1))]"
   ]
  },
  {
   "cell_type": "code",
   "execution_count": 116,
   "metadata": {},
   "outputs": [
    {
     "data": {
      "text/plain": [
       "array([[0.96795385, 0.73446109, 1.25012316, 0.7768023 ],\n",
       "       [0.18053698, 0.61824828, 0.94328744, 0.33208064],\n",
       "       [0.54112077, 0.73897228, 1.28565156, 0.57028843],\n",
       "       [0.46413688, 0.65399706, 0.70268132, 0.46211604]])"
      ]
     },
     "execution_count": 116,
     "metadata": {},
     "output_type": "execute_result"
    }
   ],
   "source": [
    "#C\n",
    "C_C = A.dot(B)\n",
    "C_C"
   ]
  },
  {
   "cell_type": "code",
   "execution_count": 117,
   "metadata": {},
   "outputs": [
    {
     "name": "stdout",
     "output_type": "stream",
     "text": [
      "[[0.96795385 0.73446109]\n",
      " [0.18053698 0.61824828]]\n",
      "\n",
      "\n",
      "[[0.         0.73446109 1.25012316 0.7768023 ]\n",
      " [0.18053698 0.         0.94328744 0.33208064]\n",
      " [0.54112077 0.73897228 0.         0.57028843]\n",
      " [0.46413688 0.65399706 0.70268132 0.        ]]\n",
      "\n",
      "\n",
      "[[0.96795385 0.73446109 1.25012316 0.7768023 ]\n",
      " [0.18053698 0.61824828 0.94328744 0.33208064]\n",
      " [0.54112077 0.73897228 1.28565156 0.57028843]\n",
      " [0.46413688 0.65399706 0.70268132 0.46211604]]\n"
     ]
    }
   ],
   "source": [
    "C = C_C.copy()\n",
    "upper_q = C[:2,:2]\n",
    "print(upper_q)\n",
    "print('\\n')\n",
    "\n",
    "#print(np.diagonal(C_C))\n",
    "#print(C_C.diagonal())\n",
    "\n",
    "for k in range(len(C)):\n",
    "    C[k,k] = 0\n",
    "print(C)\n",
    "\n",
    "#C_C.diagonal() = 0\n",
    "print('\\n')\n",
    "print(C_C)"
   ]
  }
 ],
 "metadata": {
  "kernelspec": {
   "display_name": "Python 3",
   "language": "python",
   "name": "python3"
  },
  "language_info": {
   "codemirror_mode": {
    "name": "ipython",
    "version": 3
   },
   "file_extension": ".py",
   "mimetype": "text/x-python",
   "name": "python",
   "nbconvert_exporter": "python",
   "pygments_lexer": "ipython3",
   "version": "3.7.0"
  },
  "varInspector": {
   "cols": {
    "lenName": 16,
    "lenType": 16,
    "lenVar": 40
   },
   "kernels_config": {
    "python": {
     "delete_cmd_postfix": "",
     "delete_cmd_prefix": "del ",
     "library": "var_list.py",
     "varRefreshCmd": "print(var_dic_list())"
    },
    "r": {
     "delete_cmd_postfix": ") ",
     "delete_cmd_prefix": "rm(",
     "library": "var_list.r",
     "varRefreshCmd": "cat(var_dic_list()) "
    }
   },
   "types_to_exclude": [
    "module",
    "function",
    "builtin_function_or_method",
    "instance",
    "_Feature"
   ],
   "window_display": false
  }
 },
 "nbformat": 4,
 "nbformat_minor": 2
}
